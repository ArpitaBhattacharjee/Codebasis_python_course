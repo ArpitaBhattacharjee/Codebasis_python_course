{
 "cells": [
  {
   "cell_type": "code",
   "execution_count": 15,
   "id": "5b3e5744-883e-4ac4-bc1c-6956adf7f0b1",
   "metadata": {},
   "outputs": [
    {
     "data": {
      "text/plain": [
       "['bread', 'butter', 'jam', 'chips']"
      ]
     },
     "execution_count": 15,
     "metadata": {},
     "output_type": "execute_result"
    }
   ],
   "source": [
    "items = [\"bread\",\"butter\",\"jam\",\"chips\"]\n",
    "items"
   ]
  },
  {
   "cell_type": "code",
   "execution_count": 16,
   "id": "9930bf80-f64c-4837-8715-9ed231ddcaea",
   "metadata": {},
   "outputs": [
    {
     "data": {
      "text/plain": [
       "'chips'"
      ]
     },
     "execution_count": 16,
     "metadata": {},
     "output_type": "execute_result"
    }
   ],
   "source": [
    "items [-1]"
   ]
  },
  {
   "cell_type": "code",
   "execution_count": 17,
   "id": "d20304e5-fa9e-41bb-a808-3d82a7a131cf",
   "metadata": {},
   "outputs": [
    {
     "data": {
      "text/plain": [
       "['bread', 'butter']"
      ]
     },
     "execution_count": 17,
     "metadata": {},
     "output_type": "execute_result"
    }
   ],
   "source": [
    "items [0:2]"
   ]
  },
  {
   "cell_type": "code",
   "execution_count": 18,
   "id": "e6389c04-2a06-4aa6-aa6b-dc9da05480f6",
   "metadata": {},
   "outputs": [
    {
     "data": {
      "text/plain": [
       "['bread', 'butter']"
      ]
     },
     "execution_count": 18,
     "metadata": {},
     "output_type": "execute_result"
    }
   ],
   "source": [
    "items [:2]"
   ]
  },
  {
   "cell_type": "code",
   "execution_count": 19,
   "id": "da514424-a30f-435c-bfbc-3da79010359b",
   "metadata": {},
   "outputs": [
    {
     "data": {
      "text/plain": [
       "['bread', 'butter', 'jam', 'chips', 'butter']"
      ]
     },
     "execution_count": 19,
     "metadata": {},
     "output_type": "execute_result"
    }
   ],
   "source": [
    "items.append ('butter')\n",
    "items"
   ]
  },
  {
   "cell_type": "code",
   "execution_count": 20,
   "id": "fdff944e-d0df-4aea-bb61-e195c5d28cd3",
   "metadata": {},
   "outputs": [],
   "source": [
    "items.remove ('chips')"
   ]
  },
  {
   "cell_type": "code",
   "execution_count": 21,
   "id": "0ba19fff-76b4-447d-8d18-81d7b7b5870b",
   "metadata": {},
   "outputs": [
    {
     "data": {
      "text/plain": [
       "['bread', 'butter', 'jam', 'butter']"
      ]
     },
     "execution_count": 21,
     "metadata": {},
     "output_type": "execute_result"
    }
   ],
   "source": [
    "items"
   ]
  },
  {
   "cell_type": "code",
   "execution_count": 22,
   "id": "82c79320-4ae5-4e5b-a9b8-b305a6f2a2d5",
   "metadata": {},
   "outputs": [
    {
     "data": {
      "text/plain": [
       "['bread', 'meat', 'butter', 'jam', 'butter']"
      ]
     },
     "execution_count": 22,
     "metadata": {},
     "output_type": "execute_result"
    }
   ],
   "source": [
    "items.insert(1,'meat')\n",
    "items"
   ]
  },
  {
   "cell_type": "code",
   "execution_count": 24,
   "id": "5b8cdece-3043-43b5-9d7a-97704f5e1490",
   "metadata": {},
   "outputs": [
    {
     "data": {
      "text/plain": [
       "['bread', 'meat', 'butter', 'fruits', 'butter']"
      ]
     },
     "execution_count": 24,
     "metadata": {},
     "output_type": "execute_result"
    }
   ],
   "source": [
    "items[3]= \"fruits\"\n",
    "items\n",
    "#jam removed"
   ]
  },
  {
   "cell_type": "code",
   "execution_count": 25,
   "id": "934b2c7b-386d-49dc-b3c8-ed56666584e8",
   "metadata": {},
   "outputs": [
    {
     "data": {
      "text/plain": [
       "False"
      ]
     },
     "execution_count": 25,
     "metadata": {},
     "output_type": "execute_result"
    }
   ],
   "source": [
    "\"rice\" in items"
   ]
  },
  {
   "cell_type": "code",
   "execution_count": 31,
   "id": "25a7e67e-def6-4206-86f7-ab25ed08ea5f",
   "metadata": {},
   "outputs": [],
   "source": [
    "#items [:4] = [\"rice\"]\n",
    "#items"
   ]
  },
  {
   "cell_type": "code",
   "execution_count": 32,
   "id": "2498cdf3-cce5-4f9e-8c74-f099483ed4c8",
   "metadata": {},
   "outputs": [],
   "source": [
    "items[5:] = ['ghee']"
   ]
  },
  {
   "cell_type": "code",
   "execution_count": 34,
   "id": "77d8d52b-cc01-4c8e-837b-fffc3c7e00da",
   "metadata": {},
   "outputs": [
    {
     "data": {
      "text/plain": [
       "['rice', 'butter', 'ghee', 'ghee']"
      ]
     },
     "execution_count": 34,
     "metadata": {},
     "output_type": "execute_result"
    }
   ],
   "source": [
    "items"
   ]
  },
  {
   "cell_type": "code",
   "execution_count": 3,
   "id": "15b7372a-d1c4-4307-b153-8e30f1660129",
   "metadata": {},
   "outputs": [
    {
     "data": {
      "text/plain": [
       "[1200, 450, 35, 22]"
      ]
     },
     "execution_count": 3,
     "metadata": {},
     "output_type": "execute_result"
    }
   ],
   "source": [
    "expence = [22,35,450,1200]\n",
    "expence.sort (reverse = True)\n",
    "expence"
   ]
  },
  {
   "cell_type": "code",
   "execution_count": 3,
   "id": "46c9f1c4-cf24-45e7-8f51-a5508b70889a",
   "metadata": {},
   "outputs": [],
   "source": [
    "food_items = [\"pasta\",\"rice\",\"ghee\"]\n",
    "toilet_items = ['soap','wheel']"
   ]
  },
  {
   "cell_type": "code",
   "execution_count": 4,
   "id": "07327fcb-6217-47f7-b71c-fefc1a9371e9",
   "metadata": {},
   "outputs": [
    {
     "data": {
      "text/plain": [
       "['pasta', 'rice', 'ghee', 'soap', 'wheel']"
      ]
     },
     "execution_count": 4,
     "metadata": {},
     "output_type": "execute_result"
    }
   ],
   "source": [
    "items = food_items + toilet_items\n",
    "items"
   ]
  },
  {
   "cell_type": "code",
   "execution_count": 5,
   "id": "ca09ec91-34fd-40a0-83cf-2d920fc3088e",
   "metadata": {},
   "outputs": [
    {
     "data": {
      "text/plain": [
       "5"
      ]
     },
     "execution_count": 5,
     "metadata": {},
     "output_type": "execute_result"
    }
   ],
   "source": [
    "len (items)"
   ]
  },
  {
   "cell_type": "markdown",
   "id": "67e53b43-d4b2-4784-b19b-628bf9c3417f",
   "metadata": {},
   "source": [
    "items.clear()\n"
   ]
  },
  {
   "cell_type": "markdown",
   "id": "69cdf345-29c2-4656-9020-9c2f39eb2a84",
   "metadata": {},
   "source": [
    "items"
   ]
  },
  {
   "cell_type": "code",
   "execution_count": 6,
   "id": "dc6dcb89-e413-49c1-a1f2-22017b5626b8",
   "metadata": {},
   "outputs": [
    {
     "data": {
      "text/plain": [
       "['car', 4.5, True]"
      ]
     },
     "execution_count": 6,
     "metadata": {},
     "output_type": "execute_result"
    }
   ],
   "source": [
    "random = ['car',4.5,True]\n",
    "random"
   ]
  },
  {
   "cell_type": "code",
   "execution_count": null,
   "id": "2407cbbb-5a06-4022-9ac0-2bef14d6b688",
   "metadata": {},
   "outputs": [],
   "source": []
  }
 ],
 "metadata": {
  "kernelspec": {
   "display_name": "Python [conda env:base] *",
   "language": "python",
   "name": "conda-base-py"
  },
  "language_info": {
   "codemirror_mode": {
    "name": "ipython",
    "version": 3
   },
   "file_extension": ".py",
   "mimetype": "text/x-python",
   "name": "python",
   "nbconvert_exporter": "python",
   "pygments_lexer": "ipython3",
   "version": "3.13.5"
  }
 },
 "nbformat": 4,
 "nbformat_minor": 5
}

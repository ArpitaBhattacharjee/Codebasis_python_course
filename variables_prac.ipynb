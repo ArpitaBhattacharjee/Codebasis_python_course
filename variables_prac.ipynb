{
 "cells": [
  {
   "cell_type": "code",
   "execution_count": 2,
   "id": "cab33f43-83af-4248-84bd-5f963e1b2ff0",
   "metadata": {},
   "outputs": [
    {
     "data": {
      "text/plain": [
       "'soda'"
      ]
     },
     "execution_count": 2,
     "metadata": {},
     "output_type": "execute_result"
    }
   ],
   "source": [
    "can = \"soda\"\n",
    "can"
   ]
  },
  {
   "cell_type": "code",
   "execution_count": 3,
   "id": "b66318ad-d553-42ae-a953-3d8cf6843a9a",
   "metadata": {},
   "outputs": [
    {
     "name": "stdout",
     "output_type": "stream",
     "text": [
      "soda\n"
     ]
    }
   ],
   "source": [
    "print (can)"
   ]
  },
  {
   "cell_type": "code",
   "execution_count": 4,
   "id": "776e4430-eed0-4973-b495-f57386629e32",
   "metadata": {},
   "outputs": [
    {
     "data": {
      "text/plain": [
       "'beans'"
      ]
     },
     "execution_count": 4,
     "metadata": {},
     "output_type": "execute_result"
    }
   ],
   "source": [
    "can = \"beans\"\n",
    "can"
   ]
  },
  {
   "cell_type": "code",
   "execution_count": 5,
   "id": "2e0e99a2-6a6e-4516-b41c-6cf8e8ef6b0b",
   "metadata": {},
   "outputs": [
    {
     "name": "stdout",
     "output_type": "stream",
     "text": [
      "beans\n"
     ]
    }
   ],
   "source": [
    "print (can)"
   ]
  },
  {
   "cell_type": "code",
   "execution_count": 6,
   "id": "590e7de8-4ef8-49c4-a42a-ea2e655eaacd",
   "metadata": {},
   "outputs": [
    {
     "data": {
      "text/plain": [
       "str"
      ]
     },
     "execution_count": 6,
     "metadata": {},
     "output_type": "execute_result"
    }
   ],
   "source": [
    "type (can)"
   ]
  },
  {
   "cell_type": "code",
   "execution_count": 7,
   "id": "40bed4b8-d8b3-4b10-b679-771eb61101f8",
   "metadata": {},
   "outputs": [],
   "source": [
    "ice = 100\n",
    "clr = 50\n",
    "total = ice + clr"
   ]
  },
  {
   "cell_type": "code",
   "execution_count": 8,
   "id": "bbd6d4d2-010d-49da-9b5a-f89c0f896a27",
   "metadata": {},
   "outputs": [
    {
     "data": {
      "text/plain": [
       "150"
      ]
     },
     "execution_count": 8,
     "metadata": {},
     "output_type": "execute_result"
    }
   ],
   "source": [
    "total"
   ]
  },
  {
   "cell_type": "code",
   "execution_count": 9,
   "id": "666083f0-0c19-4bfd-8c7d-759f9635046b",
   "metadata": {},
   "outputs": [
    {
     "data": {
      "text/plain": [
       "int"
      ]
     },
     "execution_count": 9,
     "metadata": {},
     "output_type": "execute_result"
    }
   ],
   "source": [
    "type(total)"
   ]
  },
  {
   "cell_type": "code",
   "execution_count": 10,
   "id": "02258f94-b004-40aa-87b3-b8166ec89a7f",
   "metadata": {},
   "outputs": [
    {
     "data": {
      "text/plain": [
       "16.0"
      ]
     },
     "execution_count": 10,
     "metadata": {},
     "output_type": "execute_result"
    }
   ],
   "source": [
    "pizza =10.5\n",
    "sushi = 5.5\n",
    "total = pizza + sushi\n",
    "total"
   ]
  },
  {
   "cell_type": "code",
   "execution_count": 11,
   "id": "330b7d30-c5d4-4321-bc8f-80adc513063b",
   "metadata": {},
   "outputs": [
    {
     "data": {
      "text/plain": [
       "float"
      ]
     },
     "execution_count": 11,
     "metadata": {},
     "output_type": "execute_result"
    }
   ],
   "source": [
    "type (total)"
   ]
  },
  {
   "cell_type": "code",
   "execution_count": 12,
   "id": "ef33760b-74e5-49f6-9342-eaba8016ec96",
   "metadata": {},
   "outputs": [
    {
     "data": {
      "text/plain": [
       "False"
      ]
     },
     "execution_count": 12,
     "metadata": {},
     "output_type": "execute_result"
    }
   ],
   "source": [
    "total>100"
   ]
  },
  {
   "cell_type": "code",
   "execution_count": 13,
   "id": "fd6ad95c-71e0-476f-b4e0-cca7f72ec6d6",
   "metadata": {},
   "outputs": [
    {
     "data": {
      "text/plain": [
       "float"
      ]
     },
     "execution_count": 13,
     "metadata": {},
     "output_type": "execute_result"
    }
   ],
   "source": [
    "type(total)"
   ]
  },
  {
   "cell_type": "code",
   "execution_count": 14,
   "id": "2dbcaa95-4cd8-4f8c-9dc4-bf1dbed7fa01",
   "metadata": {},
   "outputs": [
    {
     "data": {
      "text/plain": [
       "False"
      ]
     },
     "execution_count": 14,
     "metadata": {},
     "output_type": "execute_result"
    }
   ],
   "source": [
    "thresh_hold = total>100\n",
    "thresh_hold"
   ]
  },
  {
   "cell_type": "code",
   "execution_count": 15,
   "id": "9146b82f-0407-46be-84cf-0209fa982863",
   "metadata": {},
   "outputs": [
    {
     "data": {
      "text/plain": [
       "bool"
      ]
     },
     "execution_count": 15,
     "metadata": {},
     "output_type": "execute_result"
    }
   ],
   "source": [
    "type(thresh_hold)"
   ]
  },
  {
   "cell_type": "code",
   "execution_count": 16,
   "id": "19c56173-fef1-4525-9785-255f8e4c03a7",
   "metadata": {},
   "outputs": [
    {
     "data": {
      "text/plain": [
       "4635009168"
      ]
     },
     "execution_count": 16,
     "metadata": {},
     "output_type": "execute_result"
    }
   ],
   "source": [
    "id (total)"
   ]
  },
  {
   "cell_type": "code",
   "execution_count": 17,
   "id": "3fb0bb5b-04c8-4230-b632-c32192152241",
   "metadata": {},
   "outputs": [
    {
     "data": {
      "text/plain": [
       "4377769416"
      ]
     },
     "execution_count": 17,
     "metadata": {},
     "output_type": "execute_result"
    }
   ],
   "source": [
    "id (100)"
   ]
  },
  {
   "cell_type": "code",
   "execution_count": 18,
   "id": "4e06d92a-9750-446b-925f-a205f498e2dc",
   "metadata": {},
   "outputs": [
    {
     "ename": "SyntaxError",
     "evalue": "invalid decimal literal (2210318656.py, line 1)",
     "output_type": "error",
     "traceback": [
      "\u001b[0;36m  Cell \u001b[0;32mIn[18], line 1\u001b[0;36m\u001b[0m\n\u001b[0;31m    4abc =6\u001b[0m\n\u001b[0m    ^\u001b[0m\n\u001b[0;31mSyntaxError\u001b[0m\u001b[0;31m:\u001b[0m invalid decimal literal\n"
     ]
    }
   ],
   "source": [
    "4abc =6"
   ]
  },
  {
   "cell_type": "code",
   "execution_count": 19,
   "id": "9d2040f4-4fab-45fc-bf1e-2a923f879bf1",
   "metadata": {},
   "outputs": [
    {
     "ename": "SyntaxError",
     "evalue": "invalid syntax (755362719.py, line 1)",
     "output_type": "error",
     "traceback": [
      "\u001b[0;36m  Cell \u001b[0;32mIn[19], line 1\u001b[0;36m\u001b[0m\n\u001b[0;31m    $abc = 6\u001b[0m\n\u001b[0m    ^\u001b[0m\n\u001b[0;31mSyntaxError\u001b[0m\u001b[0;31m:\u001b[0m invalid syntax\n"
     ]
    }
   ],
   "source": [
    "$abc = 6"
   ]
  },
  {
   "cell_type": "code",
   "execution_count": 20,
   "id": "808f54d7-789a-4900-8c87-a7ecaa029a9b",
   "metadata": {},
   "outputs": [
    {
     "ename": "SyntaxError",
     "evalue": "invalid syntax (3218973925.py, line 1)",
     "output_type": "error",
     "traceback": [
      "\u001b[0;36m  Cell \u001b[0;32mIn[20], line 1\u001b[0;36m\u001b[0m\n\u001b[0;31m    abc$asf = 6\u001b[0m\n\u001b[0m       ^\u001b[0m\n\u001b[0;31mSyntaxError\u001b[0m\u001b[0;31m:\u001b[0m invalid syntax\n"
     ]
    }
   ],
   "source": [
    "abc$asf = 6\n"
   ]
  },
  {
   "cell_type": "code",
   "execution_count": 21,
   "id": "2c8e020c-3bf4-4f48-b55d-274353594e39",
   "metadata": {},
   "outputs": [
    {
     "ename": "SyntaxError",
     "evalue": "cannot assign to True (3094039428.py, line 1)",
     "output_type": "error",
     "traceback": [
      "\u001b[0;36m  Cell \u001b[0;32mIn[21], line 1\u001b[0;36m\u001b[0m\n\u001b[0;31m    True = 6\u001b[0m\n\u001b[0m    ^\u001b[0m\n\u001b[0;31mSyntaxError\u001b[0m\u001b[0;31m:\u001b[0m cannot assign to True\n"
     ]
    }
   ],
   "source": [
    "True = 6\n"
   ]
  },
  {
   "cell_type": "code",
   "execution_count": 22,
   "id": "ef107825-f949-4d19-9fed-556d3d137eb9",
   "metadata": {},
   "outputs": [
    {
     "ename": "SyntaxError",
     "evalue": "invalid syntax (3845301229.py, line 1)",
     "output_type": "error",
     "traceback": [
      "\u001b[0;36m  Cell \u001b[0;32mIn[22], line 1\u001b[0;36m\u001b[0m\n\u001b[0;31m    def = \"hello\"\u001b[0m\n\u001b[0m        ^\u001b[0m\n\u001b[0;31mSyntaxError\u001b[0m\u001b[0;31m:\u001b[0m invalid syntax\n"
     ]
    }
   ],
   "source": [
    "def = \"hello\""
   ]
  },
  {
   "cell_type": "code",
   "execution_count": 23,
   "id": "500ed3eb-6748-4574-aeb8-d43e7182273d",
   "metadata": {},
   "outputs": [
    {
     "ename": "SyntaxError",
     "evalue": "invalid syntax (2131858793.py, line 1)",
     "output_type": "error",
     "traceback": [
      "\u001b[0;36m  Cell \u001b[0;32mIn[23], line 1\u001b[0;36m\u001b[0m\n\u001b[0;31m    var^ = 6\u001b[0m\n\u001b[0m         ^\u001b[0m\n\u001b[0;31mSyntaxError\u001b[0m\u001b[0;31m:\u001b[0m invalid syntax\n"
     ]
    }
   ],
   "source": [
    "\n",
    "var^ = 6"
   ]
  },
  {
   "cell_type": "code",
   "execution_count": null,
   "id": "7f5f6be1-d4b4-4dda-b5e3-22240be09899",
   "metadata": {},
   "outputs": [],
   "source": []
  }
 ],
 "metadata": {
  "kernelspec": {
   "display_name": "Python [conda env:base] *",
   "language": "python",
   "name": "conda-base-py"
  },
  "language_info": {
   "codemirror_mode": {
    "name": "ipython",
    "version": 3
   },
   "file_extension": ".py",
   "mimetype": "text/x-python",
   "name": "python",
   "nbconvert_exporter": "python",
   "pygments_lexer": "ipython3",
   "version": "3.13.5"
  }
 },
 "nbformat": 4,
 "nbformat_minor": 5
}

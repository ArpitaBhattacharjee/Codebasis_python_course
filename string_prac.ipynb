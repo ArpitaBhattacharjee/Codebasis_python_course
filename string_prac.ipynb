{
 "cells": [
  {
   "cell_type": "code",
   "execution_count": 3,
   "id": "8b6fc66a-4bc5-44c6-ad69-5f9764868f36",
   "metadata": {},
   "outputs": [],
   "source": [
    "first =\"Arpa\"\n",
    "last = \"bhatt\""
   ]
  },
  {
   "cell_type": "code",
   "execution_count": 2,
   "id": "98e26297-3d8f-400f-9805-a02b2cf6a5ce",
   "metadata": {},
   "outputs": [
    {
     "data": {
      "text/plain": [
       "str"
      ]
     },
     "execution_count": 2,
     "metadata": {},
     "output_type": "execute_result"
    }
   ],
   "source": [
    "type (first)"
   ]
  },
  {
   "cell_type": "code",
   "execution_count": 5,
   "id": "07e3fec1-cf93-4ed7-86f6-f34d02a04fb5",
   "metadata": {},
   "outputs": [
    {
     "data": {
      "text/plain": [
       "'Arpa bhatt'"
      ]
     },
     "execution_count": 5,
     "metadata": {},
     "output_type": "execute_result"
    }
   ],
   "source": [
    "name = first + \" \" + last\n",
    "name"
   ]
  },
  {
   "cell_type": "code",
   "execution_count": 9,
   "id": "4ef5022f-728d-4389-bea9-a9c4861bf1a4",
   "metadata": {},
   "outputs": [
    {
     "data": {
      "text/plain": [
       "' Arpa bhatt '"
      ]
     },
     "execution_count": 9,
     "metadata": {},
     "output_type": "execute_result"
    }
   ],
   "source": [
    "#format string useful creating for creting too many variables in the text\n",
    "name = f\" {first} {last} \"\n",
    "name"
   ]
  },
  {
   "cell_type": "code",
   "execution_count": 10,
   "id": "9f107f51-472f-46d0-8a31-7b5c2fd65251",
   "metadata": {},
   "outputs": [
    {
     "data": {
      "text/plain": [
       "' Arpa bhatt is 25 years old'"
      ]
     },
     "execution_count": 10,
     "metadata": {},
     "output_type": "execute_result"
    }
   ],
   "source": [
    "age =25\n",
    "info = f\" {first} {last} is {age} years old\"\n",
    "info"
   ]
  },
  {
   "cell_type": "markdown",
   "id": "bf044f1b-34d0-4b5e-afd0-db6c8af310e6",
   "metadata": {},
   "source": []
  },
  {
   "cell_type": "code",
   "execution_count": 11,
   "id": "f0d54cd9-6fc5-4403-b8e0-9297b5cd3dd0",
   "metadata": {},
   "outputs": [
    {
     "data": {
      "text/plain": [
       "' Arpa bhatt '"
      ]
     },
     "execution_count": 11,
     "metadata": {},
     "output_type": "execute_result"
    }
   ],
   "source": [
    "name"
   ]
  },
  {
   "cell_type": "code",
   "execution_count": 12,
   "id": "5c941aa0-cb7f-433f-90e9-4ab45212ee63",
   "metadata": {},
   "outputs": [
    {
     "data": {
      "text/plain": [
       "' '"
      ]
     },
     "execution_count": 12,
     "metadata": {},
     "output_type": "execute_result"
    }
   ],
   "source": [
    "name [0]"
   ]
  },
  {
   "cell_type": "code",
   "execution_count": 13,
   "id": "9d33283a-e07d-476d-9c14-4de56835e968",
   "metadata": {},
   "outputs": [
    {
     "data": {
      "text/plain": [
       "'r'"
      ]
     },
     "execution_count": 13,
     "metadata": {},
     "output_type": "execute_result"
    }
   ],
   "source": [
    "name [2]"
   ]
  },
  {
   "cell_type": "code",
   "execution_count": 14,
   "id": "10db7caa-7ee5-4b5d-9524-e63af768946b",
   "metadata": {},
   "outputs": [
    {
     "data": {
      "text/plain": [
       "' Arpa'"
      ]
     },
     "execution_count": 14,
     "metadata": {},
     "output_type": "execute_result"
    }
   ],
   "source": [
    "name [0:5]"
   ]
  },
  {
   "cell_type": "code",
   "execution_count": 15,
   "id": "8c0ba14a-3320-46a0-853b-9f134224e799",
   "metadata": {},
   "outputs": [
    {
     "data": {
      "text/plain": [
       "'t'"
      ]
     },
     "execution_count": 15,
     "metadata": {},
     "output_type": "execute_result"
    }
   ],
   "source": [
    "name[-2]"
   ]
  },
  {
   "cell_type": "code",
   "execution_count": 16,
   "id": "aafe3dc0-a9fe-4976-9590-054964c87b41",
   "metadata": {},
   "outputs": [
    {
     "data": {
      "text/plain": [
       "' '"
      ]
     },
     "execution_count": 16,
     "metadata": {},
     "output_type": "execute_result"
    }
   ],
   "source": [
    "name[-1]"
   ]
  },
  {
   "cell_type": "code",
   "execution_count": 17,
   "id": "92230f77-9b00-4889-b25c-5c8269c326d3",
   "metadata": {},
   "outputs": [
    {
     "data": {
      "text/plain": [
       "12"
      ]
     },
     "execution_count": 17,
     "metadata": {},
     "output_type": "execute_result"
    }
   ],
   "source": [
    "len (name)"
   ]
  },
  {
   "cell_type": "code",
   "execution_count": 18,
   "id": "6cd8951a-3b5e-4777-8a60-2a5767531968",
   "metadata": {},
   "outputs": [
    {
     "ename": "TypeError",
     "evalue": "'str' object does not support item assignment",
     "output_type": "error",
     "traceback": [
      "\u001b[0;31m---------------------------------------------------------------------------\u001b[0m",
      "\u001b[0;31mTypeError\u001b[0m                                 Traceback (most recent call last)",
      "Cell \u001b[0;32mIn[18], line 1\u001b[0m\n\u001b[0;32m----> 1\u001b[0m name [\u001b[38;5;241m1\u001b[39m] \u001b[38;5;241m=\u001b[39m \u001b[38;5;124m'\u001b[39m\u001b[38;5;124mc\u001b[39m\u001b[38;5;124m'\u001b[39m\n",
      "\u001b[0;31mTypeError\u001b[0m: 'str' object does not support item assignment"
     ]
    }
   ],
   "source": [
    "name [1] = 'c' #we cannot manipulate "
   ]
  },
  {
   "cell_type": "code",
   "execution_count": 21,
   "id": "df66cdc5-22f1-4ba4-8707-047f2fe3161d",
   "metadata": {},
   "outputs": [
    {
     "data": {
      "text/plain": [
       "'is \"Biriyani\" '"
      ]
     },
     "execution_count": 21,
     "metadata": {},
     "output_type": "execute_result"
    }
   ],
   "source": [
    "#use of single quote and double quote is vise versa\n",
    "food = \"Arpa's food\"\n",
    "food2 = 'is \"Biriyani\" '\n",
    "\n",
    "food2"
   ]
  },
  {
   "cell_type": "code",
   "execution_count": 22,
   "id": "0a944d0c-833b-4454-8d9a-f65eb2f7a614",
   "metadata": {},
   "outputs": [
    {
     "data": {
      "text/plain": [
       "'\\naddA,jira,alu\\n'"
      ]
     },
     "execution_count": 22,
     "metadata": {},
     "output_type": "execute_result"
    }
   ],
   "source": [
    "recipie = '''\n",
    "addA,jira,alu\n",
    "'''\n",
    "recipie"
   ]
  },
  {
   "cell_type": "code",
   "execution_count": 23,
   "id": "0e2e234b-4502-41f2-9a73-72c50e5b7de9",
   "metadata": {},
   "outputs": [
    {
     "name": "stdout",
     "output_type": "stream",
     "text": [
      "\n",
      "addA,jira,alu\n",
      "\n"
     ]
    }
   ],
   "source": [
    "print (recipie)"
   ]
  },
  {
   "cell_type": "code",
   "execution_count": 24,
   "id": "e46d9c93-a252-4b2f-a097-9fd9ae4c1e7a",
   "metadata": {},
   "outputs": [
    {
     "data": {
      "text/plain": [
       "True"
      ]
     },
     "execution_count": 24,
     "metadata": {},
     "output_type": "execute_result"
    }
   ],
   "source": [
    "spice = \"alu\"\n",
    "spice in recipie"
   ]
  },
  {
   "cell_type": "code",
   "execution_count": 25,
   "id": "3f498531-de66-48b0-904c-f6b890276ec3",
   "metadata": {},
   "outputs": [
    {
     "data": {
      "text/plain": [
       "False"
      ]
     },
     "execution_count": 25,
     "metadata": {},
     "output_type": "execute_result"
    }
   ],
   "source": [
    "'milk' in recipie"
   ]
  },
  {
   "cell_type": "code",
   "execution_count": 27,
   "id": "0057efcb-61db-4dbf-9811-1e22aecf8333",
   "metadata": {},
   "outputs": [
    {
     "data": {
      "text/plain": [
       "11"
      ]
     },
     "execution_count": 27,
     "metadata": {},
     "output_type": "execute_result"
    }
   ],
   "source": [
    "recipie.find (spice)"
   ]
  },
  {
   "cell_type": "code",
   "execution_count": 28,
   "id": "f8e4b6e8-06b8-48f0-abd0-1e9098bcbc13",
   "metadata": {},
   "outputs": [
    {
     "data": {
      "text/plain": [
       "<function dir>"
      ]
     },
     "execution_count": 28,
     "metadata": {},
     "output_type": "execute_result"
    }
   ],
   "source": [
    "dir"
   ]
  },
  {
   "cell_type": "code",
   "execution_count": 29,
   "id": "d99b320e-dc9a-456e-9d11-0d63a04e24ff",
   "metadata": {},
   "outputs": [
    {
     "data": {
      "text/plain": [
       "'i got 100$'"
      ]
     },
     "execution_count": 29,
     "metadata": {},
     "output_type": "execute_result"
    }
   ],
   "source": [
    "s = 'i got 100$'\n",
    "s"
   ]
  },
  {
   "cell_type": "code",
   "execution_count": 30,
   "id": "1c009fea-ad01-451b-a832-9084d70cfc28",
   "metadata": {},
   "outputs": [
    {
     "data": {
      "text/plain": [
       "['__add__',\n",
       " '__class__',\n",
       " '__contains__',\n",
       " '__delattr__',\n",
       " '__dir__',\n",
       " '__doc__',\n",
       " '__eq__',\n",
       " '__format__',\n",
       " '__ge__',\n",
       " '__getattribute__',\n",
       " '__getitem__',\n",
       " '__getnewargs__',\n",
       " '__getstate__',\n",
       " '__gt__',\n",
       " '__hash__',\n",
       " '__init__',\n",
       " '__init_subclass__',\n",
       " '__iter__',\n",
       " '__le__',\n",
       " '__len__',\n",
       " '__lt__',\n",
       " '__mod__',\n",
       " '__mul__',\n",
       " '__ne__',\n",
       " '__new__',\n",
       " '__reduce__',\n",
       " '__reduce_ex__',\n",
       " '__repr__',\n",
       " '__rmod__',\n",
       " '__rmul__',\n",
       " '__setattr__',\n",
       " '__sizeof__',\n",
       " '__str__',\n",
       " '__subclasshook__',\n",
       " 'capitalize',\n",
       " 'casefold',\n",
       " 'center',\n",
       " 'count',\n",
       " 'encode',\n",
       " 'endswith',\n",
       " 'expandtabs',\n",
       " 'find',\n",
       " 'format',\n",
       " 'format_map',\n",
       " 'index',\n",
       " 'isalnum',\n",
       " 'isalpha',\n",
       " 'isascii',\n",
       " 'isdecimal',\n",
       " 'isdigit',\n",
       " 'isidentifier',\n",
       " 'islower',\n",
       " 'isnumeric',\n",
       " 'isprintable',\n",
       " 'isspace',\n",
       " 'istitle',\n",
       " 'isupper',\n",
       " 'join',\n",
       " 'ljust',\n",
       " 'lower',\n",
       " 'lstrip',\n",
       " 'maketrans',\n",
       " 'partition',\n",
       " 'removeprefix',\n",
       " 'removesuffix',\n",
       " 'replace',\n",
       " 'rfind',\n",
       " 'rindex',\n",
       " 'rjust',\n",
       " 'rpartition',\n",
       " 'rsplit',\n",
       " 'rstrip',\n",
       " 'split',\n",
       " 'splitlines',\n",
       " 'startswith',\n",
       " 'strip',\n",
       " 'swapcase',\n",
       " 'title',\n",
       " 'translate',\n",
       " 'upper',\n",
       " 'zfill']"
      ]
     },
     "execution_count": 30,
     "metadata": {},
     "output_type": "execute_result"
    }
   ],
   "source": [
    "dir (s)"
   ]
  },
  {
   "cell_type": "code",
   "execution_count": 31,
   "id": "3ead900e-8e09-49b8-aa59-34e5c28a6af3",
   "metadata": {},
   "outputs": [
    {
     "data": {
      "text/plain": [
       "'i got 10$'"
      ]
     },
     "execution_count": 31,
     "metadata": {},
     "output_type": "execute_result"
    }
   ],
   "source": [
    "s.replace ('100$','10$')"
   ]
  },
  {
   "cell_type": "code",
   "execution_count": 31,
   "id": "282af242-400a-4f39-a27a-755b9d1207bb",
   "metadata": {},
   "outputs": [
    {
     "data": {
      "text/plain": [
       "'i got 10$'"
      ]
     },
     "execution_count": 31,
     "metadata": {},
     "output_type": "execute_result"
    }
   ],
   "source": [
    "s.replace ('100$','10$')"
   ]
  },
  {
   "cell_type": "code",
   "execution_count": 33,
   "id": "f6fdd900-d7a9-4753-88b5-07ed17581b26",
   "metadata": {},
   "outputs": [],
   "source": [
    "s= s. replace ('100$','10$')"
   ]
  },
  {
   "cell_type": "code",
   "execution_count": 34,
   "id": "c6abcd89-e876-405c-8370-955f3beff03e",
   "metadata": {},
   "outputs": [
    {
     "data": {
      "text/plain": [
       "'i got 10$'"
      ]
     },
     "execution_count": 34,
     "metadata": {},
     "output_type": "execute_result"
    }
   ],
   "source": [
    "s"
   ]
  },
  {
   "cell_type": "code",
   "execution_count": 35,
   "id": "234c6efc-ada2-4e33-a637-4e149923c32b",
   "metadata": {},
   "outputs": [
    {
     "data": {
      "text/plain": [
       "'I GOT 10$'"
      ]
     },
     "execution_count": 35,
     "metadata": {},
     "output_type": "execute_result"
    }
   ],
   "source": [
    "s.upper()"
   ]
  },
  {
   "cell_type": "code",
   "execution_count": 36,
   "id": "437c9fcb-fac4-4fca-950d-d3aaee3d115b",
   "metadata": {},
   "outputs": [
    {
     "data": {
      "text/plain": [
       "True"
      ]
     },
     "execution_count": 36,
     "metadata": {},
     "output_type": "execute_result"
    }
   ],
   "source": [
    "\"340\" .isdigit()"
   ]
  },
  {
   "cell_type": "code",
   "execution_count": 37,
   "id": "b43265cd-749c-47bd-a0f7-f7087d250e2e",
   "metadata": {},
   "outputs": [
    {
     "data": {
      "text/plain": [
       "False"
      ]
     },
     "execution_count": 37,
     "metadata": {},
     "output_type": "execute_result"
    }
   ],
   "source": [
    "\"3ab40\" .isdigit()"
   ]
  },
  {
   "cell_type": "code",
   "execution_count": 38,
   "id": "a0916dd4-4e59-4522-97ef-c6c3b1e1b951",
   "metadata": {},
   "outputs": [
    {
     "data": {
      "text/plain": [
       "6"
      ]
     },
     "execution_count": 38,
     "metadata": {},
     "output_type": "execute_result"
    }
   ],
   "source": [
    "s.index ('10$')"
   ]
  },
  {
   "cell_type": "code",
   "execution_count": 41,
   "id": "dc4a096c-a893-4f60-bbdd-8c01a3f843c7",
   "metadata": {},
   "outputs": [
    {
     "data": {
      "text/plain": [
       "'my age 25'"
      ]
     },
     "execution_count": 41,
     "metadata": {},
     "output_type": "execute_result"
    }
   ],
   "source": [
    "text = \"my age \"\n",
    "age = 25\n",
    "text + str (age)"
   ]
  },
  {
   "cell_type": "code",
   "execution_count": 43,
   "id": "18509b32-3fd3-4adb-838b-619102487015",
   "metadata": {},
   "outputs": [
    {
     "data": {
      "text/plain": [
       "'hey\\tbro'"
      ]
     },
     "execution_count": 43,
     "metadata": {},
     "output_type": "execute_result"
    }
   ],
   "source": [
    "s=\"hey\\tbro\"\n",
    "s"
   ]
  },
  {
   "cell_type": "code",
   "execution_count": 44,
   "id": "911f1a63-aecd-43e5-953f-c8bdb3fe2f3b",
   "metadata": {},
   "outputs": [
    {
     "name": "stdout",
     "output_type": "stream",
     "text": [
      "hey\tbro\n"
     ]
    }
   ],
   "source": [
    "print(s)"
   ]
  },
  {
   "cell_type": "code",
   "execution_count": 45,
   "id": "230325f1-49a7-45a1-ab14-3035d89ef9c9",
   "metadata": {},
   "outputs": [
    {
     "data": {
      "text/plain": [
       "['aaa', 'bbb', 'ccc']"
      ]
     },
     "execution_count": 45,
     "metadata": {},
     "output_type": "execute_result"
    }
   ],
   "source": [
    "tickers = \"aaa|bbb|ccc\"\n",
    "tickers.split ('|')"
   ]
  },
  {
   "cell_type": "code",
   "execution_count": 48,
   "id": "b02ac4ae-a5fc-42e0-a56e-fde8c152014b",
   "metadata": {},
   "outputs": [
    {
     "data": {
      "text/plain": [
       "['aaa', 'bbb|ccc']"
      ]
     },
     "execution_count": 48,
     "metadata": {},
     "output_type": "execute_result"
    }
   ],
   "source": [
    "tickers = \"aaa|bbb|ccc\"\n",
    "tickers.split ('|', maxsplit=1)"
   ]
  },
  {
   "cell_type": "code",
   "execution_count": 49,
   "id": "148c6772-0eff-4861-84ca-7a068be3975a",
   "metadata": {},
   "outputs": [
    {
     "data": {
      "text/plain": [
       "'      hello    '"
      ]
     },
     "execution_count": 49,
     "metadata": {},
     "output_type": "execute_result"
    }
   ],
   "source": [
    "data = '      hello    '\n",
    "data"
   ]
  },
  {
   "cell_type": "code",
   "execution_count": 50,
   "id": "bad76d99-dee9-4714-9c7b-5dbd0b47d14e",
   "metadata": {},
   "outputs": [
    {
     "data": {
      "text/plain": [
       "'hello'"
      ]
     },
     "execution_count": 50,
     "metadata": {},
     "output_type": "execute_result"
    }
   ],
   "source": [
    "data.strip()"
   ]
  },
  {
   "cell_type": "code",
   "execution_count": 52,
   "id": "733d5a34-76e5-42a0-afba-256acdb1c0b2",
   "metadata": {},
   "outputs": [
    {
     "data": {
      "text/plain": [
       "True"
      ]
     },
     "execution_count": 52,
     "metadata": {},
     "output_type": "execute_result"
    }
   ],
   "source": [
    "file = \"report.pdf\"\n",
    "file.endswith('.pdf')"
   ]
  },
  {
   "cell_type": "code",
   "execution_count": null,
   "id": "f39be9c6-c5b3-4fca-9233-b6f92cfc533d",
   "metadata": {},
   "outputs": [],
   "source": []
  }
 ],
 "metadata": {
  "kernelspec": {
   "display_name": "Python [conda env:base] *",
   "language": "python",
   "name": "conda-base-py"
  },
  "language_info": {
   "codemirror_mode": {
    "name": "ipython",
    "version": 3
   },
   "file_extension": ".py",
   "mimetype": "text/x-python",
   "name": "python",
   "nbconvert_exporter": "python",
   "pygments_lexer": "ipython3",
   "version": "3.13.5"
  }
 },
 "nbformat": 4,
 "nbformat_minor": 5
}
